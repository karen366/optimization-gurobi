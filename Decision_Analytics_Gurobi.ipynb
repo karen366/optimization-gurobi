{
 "cells": [
  {
   "cell_type": "code",
   "execution_count": null,
   "id": "c463c85b",
   "metadata": {},
   "outputs": [],
   "source": [
    "# !conda config --add channels http://conda.anaconda.org/gurobi\n",
    "# !conda install gurobi --yes"
   ]
  },
  {
   "cell_type": "code",
   "execution_count": null,
   "id": "cf0faf5c",
   "metadata": {},
   "outputs": [],
   "source": [
    "from gurobipy import *"
   ]
  },
  {
   "cell_type": "code",
   "execution_count": null,
   "id": "2cb73c0c",
   "metadata": {},
   "outputs": [],
   "source": [
    "test = Model()\n",
    "test.optimize()"
   ]
  },
  {
   "cell_type": "markdown",
   "id": "a9d02b19",
   "metadata": {
    "tags": []
   },
   "source": [
    "## Aug 31"
   ]
  },
  {
   "cell_type": "code",
   "execution_count": null,
   "id": "8b6692b2",
   "metadata": {},
   "outputs": [],
   "source": [
    "'''\n",
    "maximize 0.13W + 0.10P\n",
    "subject to 1.5W + 1.0P ≤ 27, 000\n",
    "1.0W + 1.0P ≤ 21, 000\n",
    "0.3W + 0.5P ≤ 9, 000\n",
    "W ≤ 15, 000\n",
    "P ≤ 16, 000\n",
    "W, P ≥ 0\n",
    "'''"
   ]
  },
  {
   "cell_type": "code",
   "execution_count": null,
   "id": "c3047dc4",
   "metadata": {},
   "outputs": [],
   "source": [
    "# Production Planning Example\n",
    "\n",
    "import gurobipy as gb\n",
    "from gurobipy import *"
   ]
  },
  {
   "cell_type": "code",
   "execution_count": null,
   "id": "c4bd784c",
   "metadata": {},
   "outputs": [],
   "source": [
    "prob = gb.Model(\"GTC production plannin-2023 section 2\")"
   ]
  },
  {
   "cell_type": "code",
   "execution_count": null,
   "id": "b1aae027",
   "metadata": {},
   "outputs": [],
   "source": [
    "W = prob.addVar(name = \"Number of wrenches\", vtype = GRB.CONTINUOUS, lb = 0, ub = 15000)\n",
    "P = prob.addVar(name = \"Number of pliers\", vtype = GRB.CONTINUOUS, lb = 0, ub = 16000)"
   ]
  },
  {
   "cell_type": "code",
   "execution_count": null,
   "id": "9fb714a2",
   "metadata": {},
   "outputs": [],
   "source": [
    "prob.setObjective(0.13*W+0.1*P, GRB.MAXIMIZE)"
   ]
  },
  {
   "cell_type": "code",
   "execution_count": null,
   "id": "3d398d59",
   "metadata": {},
   "outputs": [],
   "source": [
    "prob.addConstr(1.5*W+1*P <= 27000, name =\"Ava of steel\") # constraint\n",
    "prob.addConstr(1*W+1*P <= 21000, name =\"Ava of time on molding machine\")\n",
    "prob.addConstr(0.3*W+0.5*P <= 9000, name =\"Ava of time on assembly machine\")"
   ]
  },
  {
   "cell_type": "code",
   "execution_count": null,
   "id": "365166e6",
   "metadata": {},
   "outputs": [],
   "source": [
    "prob.optimize()"
   ]
  },
  {
   "cell_type": "code",
   "execution_count": null,
   "id": "7bf01815",
   "metadata": {},
   "outputs": [],
   "source": [
    "prob.objval  # objective function value"
   ]
  },
  {
   "cell_type": "code",
   "execution_count": null,
   "id": "b513b5b1",
   "metadata": {},
   "outputs": [],
   "source": [
    "print(\"The optimal daily earning is: ${}\". format(round(prob.objval)))"
   ]
  },
  {
   "cell_type": "code",
   "execution_count": null,
   "id": "25a964d1",
   "metadata": {},
   "outputs": [],
   "source": [
    "for v in prob.getVars():\n",
    "    print(v.varName, \"=\", round(v.x))  # X: a way that gurobi saves the vale; v: can change to any other variable"
   ]
  },
  {
   "cell_type": "code",
   "execution_count": null,
   "id": "110ff4d3",
   "metadata": {},
   "outputs": [],
   "source": [
    "'''\n",
    "Decision variables: \n",
    "\n",
    "F: Full size\n",
    "C: Compact  \n",
    "\n",
    "Maximize 120F + 130C\n",
    "\n",
    "2F + 1C <= 500\n",
    "2F + 3C <= 800\n",
    "F<=220\n",
    "C<=180\n",
    "\n",
    "'''"
   ]
  },
  {
   "cell_type": "code",
   "execution_count": null,
   "id": "b42b3e5d",
   "metadata": {},
   "outputs": [],
   "source": [
    "prob = gb.Model(\"Production Planning Model\")"
   ]
  },
  {
   "cell_type": "code",
   "execution_count": null,
   "id": "dc2dc12d",
   "metadata": {},
   "outputs": [],
   "source": [
    "F = prob.addVar(name = \"Number of Full size\", vtype=GRB.INTEGER, lb=0, ub=220)\n",
    "C = prob.addVar(name = \"Number of Compact\", vtype=GRB.INTEGER, lb=0, ub=180)"
   ]
  },
  {
   "cell_type": "code",
   "execution_count": null,
   "id": "0d6edc71",
   "metadata": {},
   "outputs": [],
   "source": [
    "prob.setObjective(120*F + 130*C, GRB.MAXIMIZE)"
   ]
  },
  {
   "cell_type": "code",
   "execution_count": null,
   "id": "d47ea949",
   "metadata": {},
   "outputs": [],
   "source": [
    "prob.addConstr(2*F+1*C <= 500, name = \"Ava of General Assembly\")"
   ]
  },
  {
   "cell_type": "code",
   "execution_count": null,
   "id": "eb014dcc",
   "metadata": {},
   "outputs": [],
   "source": [
    "prob.addConstr(2*F+3*C <= 800, name = \"Ava of Electronic Assembly\")"
   ]
  },
  {
   "cell_type": "code",
   "execution_count": null,
   "id": "cd540e99",
   "metadata": {},
   "outputs": [],
   "source": [
    "prob.optimize()"
   ]
  },
  {
   "cell_type": "code",
   "execution_count": null,
   "id": "dc5dd1da",
   "metadata": {},
   "outputs": [],
   "source": [
    "prob.objval"
   ]
  },
  {
   "cell_type": "code",
   "execution_count": null,
   "id": "2cebcbea",
   "metadata": {},
   "outputs": [],
   "source": [
    "for v in prob.getVars():\n",
    "    print(v.varName, \"=\", round(v.x))"
   ]
  }
 ],
 "metadata": {
  "kernelspec": {
   "display_name": "mcgill",
   "language": "python",
   "name": "mcgill"
  },
  "language_info": {
   "codemirror_mode": {
    "name": "ipython",
    "version": 3
   },
   "file_extension": ".py",
   "mimetype": "text/x-python",
   "name": "python",
   "nbconvert_exporter": "python",
   "pygments_lexer": "ipython3",
   "version": "3.8.17"
  }
 },
 "nbformat": 4,
 "nbformat_minor": 5
}
